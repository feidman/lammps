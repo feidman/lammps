{
 "cells": [
  {
   "cell_type": "code",
   "execution_count": 4,
   "id": "37ea9a1c",
   "metadata": {},
   "outputs": [
    {
     "name": "stdout",
     "output_type": "stream",
     "text": [
      "<Universe with 3341 atoms>\n",
      "Using MDAnalysis version 2.6.1\n"
     ]
    }
   ],
   "source": [
    "import MDAnalysis as mda\n",
    "from MDAnalysis.tests.datafiles import PSF, DCD, GRO, XTC\n",
    "\n",
    "import warnings\n",
    "# suppress some MDAnalysis warnings about PSF files\n",
    "warnings.filterwarnings('ignore')\n",
    "\n",
    "from matplotlib import pyplot as plt\n",
    "\n",
    "print(mda.Universe(PSF, DCD))\n",
    "print(\"Using MDAnalysis version\", mda.__version__)\n",
    "\n",
    "%matplotlib inline"
   ]
  },
  {
   "cell_type": "code",
   "execution_count": 23,
   "id": "f9d6bee6",
   "metadata": {},
   "outputs": [
    {
     "name": "stdout",
     "output_type": "stream",
     "text": [
      "<Universe with 3341 atoms>\n",
      "False\n"
     ]
    }
   ],
   "source": [
    "psf = mda.Universe(PSF)\n",
    "print(psf)\n",
    "print(hasattr(psf, 'trajectory'))\n"
   ]
  },
  {
   "cell_type": "code",
   "execution_count": 27,
   "id": "3636b56c",
   "metadata": {},
   "outputs": [
    {
     "name": "stdout",
     "output_type": "stream",
     "text": [
      "<Universe with 47681 atoms>\n",
      "1\n",
      "True\n"
     ]
    }
   ],
   "source": [
    "gro = mda.Universe(GRO)\n",
    "print(gro)\n",
    "print(len(gro.trajectory))\n",
    "\n",
    "#test\n",
    "print(hasattr(gro,'trajectory'))"
   ]
  },
  {
   "cell_type": "code",
   "execution_count": 28,
   "id": "1b54f4d2",
   "metadata": {},
   "outputs": [
    {
     "name": "stdout",
     "output_type": "stream",
     "text": [
      "<Universe with 3341 atoms>\n",
      "98\n",
      "True\n"
     ]
    }
   ],
   "source": [
    "# test\n",
    "mydcd = mda.Universe(DCD)\n",
    "print(mydcd)\n",
    "print(len(mydcd.trajectory))\n",
    "\n",
    "#test\n",
    "print(hasattr(mydcd,'trajectory'))"
   ]
  },
  {
   "cell_type": "code",
   "execution_count": 7,
   "id": "aa39342c",
   "metadata": {},
   "outputs": [
    {
     "name": "stdout",
     "output_type": "stream",
     "text": [
      "<Universe with 3341 atoms>\n",
      "98\n"
     ]
    }
   ],
   "source": [
    "u = mda.Universe(PSF, DCD)\n",
    "print(u)\n",
    "print(len(u.trajectory))"
   ]
  },
  {
   "cell_type": "code",
   "execution_count": 31,
   "id": "71b3264e",
   "metadata": {},
   "outputs": [],
   "source": [
    "#test\n",
    "# myu = mda.Universe(DCD,GRO)\n",
    "# print(myu)\n",
    "# print(len(myu.trajectory))\n",
    "\n",
    "#error msg"
   ]
  },
  {
   "cell_type": "code",
   "execution_count": 9,
   "id": "f428f524",
   "metadata": {},
   "outputs": [
    {
     "name": "stdout",
     "output_type": "stream",
     "text": [
      "<ResidueGroup [<Residue MET, 1>, <Residue ARG, 2>, <Residue ILE, 3>, ..., <Residue ILE, 212>, <Residue LEU, 213>, <Residue GLY, 214>]>\n"
     ]
    }
   ],
   "source": [
    "print(u.residues)"
   ]
  },
  {
   "cell_type": "code",
   "execution_count": 10,
   "id": "1cc4c33b",
   "metadata": {},
   "outputs": [
    {
     "data": {
      "text/plain": [
       "<AtomGroup with 3341 atoms>"
      ]
     },
     "execution_count": 10,
     "metadata": {},
     "output_type": "execute_result"
    }
   ],
   "source": [
    "u.atoms\n"
   ]
  },
  {
   "cell_type": "code",
   "execution_count": 11,
   "id": "6f4963b5",
   "metadata": {},
   "outputs": [
    {
     "name": "stdout",
     "output_type": "stream",
     "text": [
      "<AtomGroup [<Atom 3337: HA1 of type 6 of resname GLY, resid 214 and segid 4AKE>, <Atom 3338: HA2 of type 6 of resname GLY, resid 214 and segid 4AKE>, <Atom 3339: C of type 32 of resname GLY, resid 214 and segid 4AKE>, <Atom 3340: OT1 of type 72 of resname GLY, resid 214 and segid 4AKE>, <Atom 3341: OT2 of type 72 of resname GLY, resid 214 and segid 4AKE>]>\n"
     ]
    }
   ],
   "source": [
    "last_five = u.atoms[-5:]\n",
    "print(last_five)"
   ]
  },
  {
   "cell_type": "code",
   "execution_count": 12,
   "id": "3aff0fb4",
   "metadata": {},
   "outputs": [
    {
     "name": "stdout",
     "output_type": "stream",
     "text": [
      "<AtomGroup [<Atom 3337: HA1 of type 6 of resname GLY, resid 214 and segid 4AKE>, <Atom 3340: OT1 of type 72 of resname GLY, resid 214 and segid 4AKE>, <Atom 3341: OT2 of type 72 of resname GLY, resid 214 and segid 4AKE>, <Atom 3338: HA2 of type 6 of resname GLY, resid 214 and segid 4AKE>, <Atom 3340: OT1 of type 72 of resname GLY, resid 214 and segid 4AKE>, <Atom 3337: HA1 of type 6 of resname GLY, resid 214 and segid 4AKE>]>\n"
     ]
    }
   ],
   "source": [
    "print(last_five[[0, 3, -1, 1, 3, 0]])"
   ]
  },
  {
   "cell_type": "code",
   "execution_count": 13,
   "id": "21558d28",
   "metadata": {},
   "outputs": [
    {
     "name": "stdout",
     "output_type": "stream",
     "text": [
      "<AtomGroup [<Atom 318: N of type 54 of resname GLU, resid 22 and segid 4AKE>, <Atom 319: HN of type 1 of resname GLU, resid 22 and segid 4AKE>, <Atom 320: CA of type 22 of resname GLU, resid 22 and segid 4AKE>, ..., <Atom 3271: OE2 of type 72 of resname GLU, resid 210 and segid 4AKE>, <Atom 3272: C of type 20 of resname GLU, resid 210 and segid 4AKE>, <Atom 3273: O of type 70 of resname GLU, resid 210 and segid 4AKE>]>\n"
     ]
    }
   ],
   "source": [
    "print(u.select_atoms('resname ASP or resname GLU'))"
   ]
  },
  {
   "cell_type": "code",
   "execution_count": 14,
   "id": "12d74be0",
   "metadata": {},
   "outputs": [
    {
     "name": "stdout",
     "output_type": "stream",
     "text": [
      "51\n",
      "50\n"
     ]
    }
   ],
   "source": [
    "print(u.select_atoms('resid 50-100').n_residues)\n",
    "print(u.residues[50:100].n_residues)"
   ]
  },
  {
   "cell_type": "code",
   "execution_count": 15,
   "id": "1a21c523",
   "metadata": {},
   "outputs": [
    {
     "data": {
      "text/plain": [
       "<AtomGroup with 6 atoms>"
      ]
     },
     "execution_count": 15,
     "metadata": {},
     "output_type": "execute_result"
    }
   ],
   "source": [
    "u.select_atoms(\"(resname GLU or resname HS*) and name CA and (resid 1:100)\")\n"
   ]
  },
  {
   "cell_type": "code",
   "execution_count": 16,
   "id": "835ddfbf",
   "metadata": {},
   "outputs": [
    {
     "name": "stdout",
     "output_type": "stream",
     "text": [
      "['N' 'HT1' 'HT2']\n"
     ]
    }
   ],
   "source": [
    "nhh = u.atoms[:3]\n",
    "print(nhh.names)"
   ]
  },
  {
   "cell_type": "code",
   "execution_count": 17,
   "id": "8aea876a",
   "metadata": {},
   "outputs": [
    {
     "name": "stdout",
     "output_type": "stream",
     "text": [
      "N-H-H angle: 37.99\n"
     ]
    }
   ],
   "source": [
    "angle_nhh = nhh.angle\n",
    "print(f\"N-H-H angle: {angle_nhh.value():.2f}\")"
   ]
  },
  {
   "cell_type": "code",
   "execution_count": 18,
   "id": "eeb53567",
   "metadata": {},
   "outputs": [
    {
     "name": "stdout",
     "output_type": "stream",
     "text": [
      "['HT1' 'N' 'HT2']\n"
     ]
    }
   ],
   "source": [
    "hnh = u.atoms[[1, 0, 2]]\n",
    "print(hnh.names)"
   ]
  },
  {
   "cell_type": "code",
   "execution_count": 19,
   "id": "a8085eff",
   "metadata": {},
   "outputs": [
    {
     "name": "stdout",
     "output_type": "stream",
     "text": [
      "N-H-H angle: 106.20\n"
     ]
    }
   ],
   "source": [
    "angle_hnh = hnh.angle\n",
    "print(f\"N-H-H angle: {angle_hnh.value():.2f}\")"
   ]
  },
  {
   "cell_type": "code",
   "execution_count": 20,
   "id": "c695134e",
   "metadata": {},
   "outputs": [
    {
     "name": "stdout",
     "output_type": "stream",
     "text": [
      "98\n"
     ]
    }
   ],
   "source": [
    "print(len(u.trajectory))"
   ]
  },
  {
   "cell_type": "code",
   "execution_count": 21,
   "id": "90e17419",
   "metadata": {},
   "outputs": [
    {
     "name": "stdout",
     "output_type": "stream",
     "text": [
      "Frame:   0, Time:    1 ps, Rgyr: 16.6690 A\n",
      "Frame:   1, Time:    2 ps, Rgyr: 16.6732 A\n",
      "Frame:   2, Time:    3 ps, Rgyr: 16.7315 A\n",
      "Frame:   3, Time:    4 ps, Rgyr: 16.7223 A\n",
      "Frame:   4, Time:    5 ps, Rgyr: 16.7440 A\n",
      "Frame:   5, Time:    6 ps, Rgyr: 16.7185 A\n",
      "Frame:   6, Time:    7 ps, Rgyr: 16.7741 A\n",
      "Frame:   7, Time:    8 ps, Rgyr: 16.7764 A\n",
      "Frame:   8, Time:    9 ps, Rgyr: 16.7894 A\n",
      "Frame:   9, Time:   10 ps, Rgyr: 16.8289 A\n",
      "Frame:  10, Time:   11 ps, Rgyr: 16.8521 A\n",
      "Frame:  11, Time:   12 ps, Rgyr: 16.8549 A\n",
      "Frame:  12, Time:   13 ps, Rgyr: 16.8723 A\n",
      "Frame:  13, Time:   14 ps, Rgyr: 16.9108 A\n",
      "Frame:  14, Time:   15 ps, Rgyr: 16.9494 A\n",
      "Frame:  15, Time:   16 ps, Rgyr: 16.9810 A\n",
      "Frame:  16, Time:   17 ps, Rgyr: 17.0033 A\n",
      "Frame:  17, Time:   18 ps, Rgyr: 17.0196 A\n",
      "Frame:  18, Time:   19 ps, Rgyr: 17.0784 A\n",
      "Frame:  19, Time:   20 ps, Rgyr: 17.1265 A\n"
     ]
    }
   ],
   "source": [
    "for ts in u.trajectory[:20]:\n",
    "    time = u.trajectory.time\n",
    "    rgyr = u.atoms.radius_of_gyration()\n",
    "    print(f\"Frame: {ts.frame:3d}, Time: {time:4.0f} ps, Rgyr: {rgyr:.4f} A\")"
   ]
  },
  {
   "cell_type": "code",
   "execution_count": 32,
   "id": "979e72a7",
   "metadata": {},
   "outputs": [
    {
     "name": "stdout",
     "output_type": "stream",
     "text": [
      "Frame:   0, Time:    1 ps, Rgyr: 16.6690 A\n"
     ]
    }
   ],
   "source": [
    "frame = u.trajectory.frame\n",
    "time = u.trajectory.time\n",
    "rgyr = u.atoms.radius_of_gyration()\n",
    "print(\"Frame: {:3d}, Time: {:4.0f} ps, Rgyr: {:.4f} A\".format(frame, time, rgyr))"
   ]
  },
  {
   "cell_type": "code",
   "execution_count": 33,
   "id": "35e0d99d",
   "metadata": {},
   "outputs": [],
   "source": [
    "rgyr = []\n",
    "time = []\n",
    "protein = u.select_atoms(\"protein\")\n",
    "for ts in u.trajectory:\n",
    "    time.append(u.trajectory.time)\n",
    "    rgyr.append(protein.radius_of_gyration())"
   ]
  },
  {
   "cell_type": "code",
   "execution_count": 34,
   "id": "fab384cf",
   "metadata": {},
   "outputs": [
    {
     "data": {
      "text/html": [
       "<div>\n",
       "<style scoped>\n",
       "    .dataframe tbody tr th:only-of-type {\n",
       "        vertical-align: middle;\n",
       "    }\n",
       "\n",
       "    .dataframe tbody tr th {\n",
       "        vertical-align: top;\n",
       "    }\n",
       "\n",
       "    .dataframe thead th {\n",
       "        text-align: right;\n",
       "    }\n",
       "</style>\n",
       "<table border=\"1\" class=\"dataframe\">\n",
       "  <thead>\n",
       "    <tr style=\"text-align: right;\">\n",
       "      <th></th>\n",
       "      <th>Radius of gyration (A)</th>\n",
       "    </tr>\n",
       "    <tr>\n",
       "      <th>Time (ps)</th>\n",
       "      <th></th>\n",
       "    </tr>\n",
       "  </thead>\n",
       "  <tbody>\n",
       "    <tr>\n",
       "      <th>1.0</th>\n",
       "      <td>16.669018</td>\n",
       "    </tr>\n",
       "    <tr>\n",
       "      <th>2.0</th>\n",
       "      <td>16.673217</td>\n",
       "    </tr>\n",
       "    <tr>\n",
       "      <th>3.0</th>\n",
       "      <td>16.731454</td>\n",
       "    </tr>\n",
       "    <tr>\n",
       "      <th>4.0</th>\n",
       "      <td>16.722283</td>\n",
       "    </tr>\n",
       "    <tr>\n",
       "      <th>5.0</th>\n",
       "      <td>16.743961</td>\n",
       "    </tr>\n",
       "  </tbody>\n",
       "</table>\n",
       "</div>"
      ],
      "text/plain": [
       "           Radius of gyration (A)\n",
       "Time (ps)                        \n",
       "1.0                     16.669018\n",
       "2.0                     16.673217\n",
       "3.0                     16.731454\n",
       "4.0                     16.722283\n",
       "5.0                     16.743961"
      ]
     },
     "execution_count": 34,
     "metadata": {},
     "output_type": "execute_result"
    }
   ],
   "source": [
    "import pandas as pd\n",
    "rgyr_df = pd.DataFrame(rgyr, columns=['Radius of gyration (A)'], index=time)\n",
    "rgyr_df.index.name = 'Time (ps)'\n",
    "\n",
    "rgyr_df.head()"
   ]
  },
  {
   "cell_type": "code",
   "execution_count": 35,
   "id": "750ae5ba",
   "metadata": {},
   "outputs": [
    {
     "data": {
      "image/png": "[encoded data removed]",
      "text/plain": [
       "<Figure size 640x480 with 1 Axes>"
      ]
     },
     "metadata": {},
     "output_type": "display_data"
    }
   ],
   "source": [
    "rgyr_df.plot(title='Radius of gyration')\n",
    "plt.show()"
   ]
  },
  {
   "cell_type": "code",
   "execution_count": 36,
   "id": "a6ea60a3",
   "metadata": {},
   "outputs": [],
   "source": [
    "from MDAnalysis.analysis import rms"
   ]
  },
  {
   "cell_type": "code",
   "execution_count": 37,
   "id": "ea1e45b7",
   "metadata": {},
   "outputs": [
    {
     "data": {
      "text/plain": [
       "6.852774844656239"
      ]
     },
     "execution_count": 37,
     "metadata": {},
     "output_type": "execute_result"
    }
   ],
   "source": [
    "bb = u.select_atoms('backbone')\n",
    "\n",
    "u.trajectory[0] # first frame\n",
    "first = bb.positions\n",
    "\n",
    "u.trajectory[-1] #last frame\n",
    "last = bb.positions\n",
    "\n",
    "rms.rmsd(first, last)"
   ]
  },
  {
   "cell_type": "code",
   "execution_count": null,
   "id": "87ebcc7e",
   "metadata": {},
   "outputs": [],
   "source": []
  }
 ],
 "metadata": {
  "kernelspec": {
   "display_name": "Python 3 (ipykernel)",
   "language": "python",
   "name": "python3"
  },
  "language_info": {
   "codemirror_mode": {
    "name": "ipython",
    "version": 3
   },
   "file_extension": ".py",
   "mimetype": "text/x-python",
   "name": "python",
   "nbconvert_exporter": "python",
   "pygments_lexer": "ipython3",
   "version": "3.9.15"
  }
 },
 "nbformat": 4,
 "nbformat_minor": 5
}
